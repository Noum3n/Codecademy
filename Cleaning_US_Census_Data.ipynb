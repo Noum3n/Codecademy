{
  "cells": [
    {
      "cell_type": "markdown",
      "metadata": {
        "id": "view-in-github",
        "colab_type": "text"
      },
      "source": [
        "<a href=\"https://colab.research.google.com/github/Noum3n/Codecademy/blob/main/Cleaning_US_Census_Data.ipynb\" target=\"_parent\"><img src=\"https://colab.research.google.com/assets/colab-badge.svg\" alt=\"Open In Colab\"/></a>"
      ]
    },
    {
      "cell_type": "markdown",
      "metadata": {
        "id": "hcQ2NpXvglOR"
      },
      "source": [
        "# Cleaning US Census Data"
      ]
    },
    {
      "cell_type": "markdown",
      "metadata": {
        "id": "gPRjPVx4glOS"
      },
      "source": [
        "You just got hired as a Data Analyst at the Census Bureau, which collects census data and creates interesting visualizations and insights from it.\n",
        "\n",
        "The person who had your job before you left you all the data they had for the most recent census. It is in multiple `csv` files. They didn't use pandas, they would just look through these `csv` files manually whenever they wanted to find something. Sometimes they would copy and paste certain numbers into Excel to make charts.\n",
        "\n",
        "The thought of it makes you shiver. This is not scalable or repeatable.\n",
        "\n",
        "Your boss wants you to make some scatterplots and histograms by the end of the day. Can you get this data into `pandas` and into reasonable shape so that you can make these histograms?"
      ]
    },
    {
      "cell_type": "markdown",
      "metadata": {
        "id": "RtDmaf1BglOS"
      },
      "source": [
        "## Inspect the Data!"
      ]
    },
    {
      "cell_type": "markdown",
      "metadata": {
        "id": "bOgwxrXmglOS"
      },
      "source": [
        "1. The first visualization your boss wants you to make is a scatterplot that shows average income in a state vs proportion of women in that state.\n",
        "\n",
        "   Open some of the census `csv` files that came with the kit you downloaded. How are they named? What kind of information do they hold? Will they help us make this graph?"
      ]
    },
    {
      "cell_type": "code",
      "execution_count": null,
      "metadata": {
        "id": "SKsek4UvglOS"
      },
      "outputs": [],
      "source": []
    },
    {
      "cell_type": "markdown",
      "metadata": {
        "id": "9DvuSyjnglOT"
      },
      "source": [
        "2. It will be easier to inspect this data once we have it in a DataFrame. You can't even call `.head()` on these `csv`s! How are you supposed to read them?\n",
        "\n",
        "   Using `glob`, loop through the census files available and load them into DataFrames. Then, concatenate all of those DataFrames together into one DataFrame, called something like `us_census`."
      ]
    },
    {
      "cell_type": "code",
      "execution_count": 3,
      "metadata": {
        "colab": {
          "base_uri": "https://localhost:8080/"
        },
        "id": "L9c0I9TiglOT",
        "outputId": "15610c18-884c-4438-ec29-2db959e0b578"
      },
      "outputs": [
        {
          "output_type": "stream",
          "name": "stdout",
          "text": [
            "   Unnamed: 0                 State  TotalPop Hispanic   White   Black Native  \\\n",
            "0           0              Colorado   5278906   20.78%  69.90%   3.55%  0.57%   \n",
            "1           1           Connecticut   3593222   15.60%  67.68%  10.35%  0.13%   \n",
            "2           2              Delaware    926454    8.82%  64.63%  20.74%  0.26%   \n",
            "3           3  District of Columbia    647484    9.17%  33.10%  51.78%  0.20%   \n",
            "4           4               Florida  19645772   21.34%  59.08%  15.17%  0.21%   \n",
            "\n",
            "   Asian Pacific       Income           GenderPop  \n",
            "0  2.66%     NaN  $64,657.80    2648667M_2630239F  \n",
            "1  4.02%   0.02%  $76,146.56    1751607M_1841615F  \n",
            "2  3.27%     NaN  $61,827.98      448413M_478041F  \n",
            "3  3.38%   0.03%  $75,466.36      306674M_340810F  \n",
            "4  2.28%   0.05%  $50,690.19   9600009M_10045763F  \n"
          ]
        }
      ],
      "source": [
        "import pandas as pd\n",
        "import numpy as np\n",
        "import matplotlib.pyplot as plt\n",
        "\n",
        "import glob\n",
        "files = glob.glob('states*.csv')\n",
        "states_list = []\n",
        "for filename in files:\n",
        "    data = pd.read_csv(filename)\n",
        "    states_list.append(data)\n",
        "us_census = pd.concat(states_list)\n",
        "print(us_census.head())"
      ]
    },
    {
      "cell_type": "markdown",
      "metadata": {
        "id": "lVzOWy3MglOT"
      },
      "source": [
        "3. Look at the `.columns` and the `.dtypes` of the `us_census` DataFrame. Are those datatypes going to hinder you as you try to make histograms?"
      ]
    },
    {
      "cell_type": "code",
      "execution_count": null,
      "metadata": {
        "id": "C_LYBdSAglOT"
      },
      "outputs": [],
      "source": []
    },
    {
      "cell_type": "markdown",
      "metadata": {
        "id": "yg97VRESglOT"
      },
      "source": [
        "4. Look at the `head()` of the DataFrame so that you can understand why some of these `dtypes` are objects instead of integers or floats.\n",
        "\n",
        "   Start to make a plan for how to convert these columns into the right types for manipulation."
      ]
    },
    {
      "cell_type": "code",
      "execution_count": null,
      "metadata": {
        "id": "7OBrswFWglOT"
      },
      "outputs": [],
      "source": []
    },
    {
      "cell_type": "markdown",
      "metadata": {
        "id": "BhyBx0aSglOU"
      },
      "source": [
        "## Regex to the Rescue"
      ]
    },
    {
      "cell_type": "markdown",
      "metadata": {
        "id": "xia3NbdXglOU"
      },
      "source": [
        "5. Use regex to turn the `Income` column into a format that is ready for conversion into a numerical type."
      ]
    },
    {
      "cell_type": "code",
      "execution_count": null,
      "metadata": {
        "id": "g5of4yZoglOU"
      },
      "outputs": [],
      "source": []
    },
    {
      "cell_type": "markdown",
      "metadata": {
        "id": "F071J02RglOU"
      },
      "source": [
        "6. Look at the `GenderPop` column. We are going to want to separate this into two columns, the `Men` column, and the `Women` column.\n",
        "\n",
        "   Split the column into those two new columns using `str.split` and separating out those results."
      ]
    },
    {
      "cell_type": "code",
      "execution_count": null,
      "metadata": {
        "id": "bk4uucswglOU"
      },
      "outputs": [],
      "source": []
    },
    {
      "cell_type": "markdown",
      "metadata": {
        "id": "S-D3uqLYglOU"
      },
      "source": [
        "7. Convert both of the columns into numerical datatypes.\n",
        "\n",
        "   There is still an `M` or an `F` character in each entry! We should remove those before we convert."
      ]
    },
    {
      "cell_type": "code",
      "execution_count": null,
      "metadata": {
        "id": "y2YJ_kY4glOU"
      },
      "outputs": [],
      "source": []
    },
    {
      "cell_type": "markdown",
      "metadata": {
        "id": "t5jJ8jSbglOU"
      },
      "source": [
        "8. Now you should have the columns you need to make the graph and make sure your boss does not slam a ruler angrily on your desk because you've wasted your whole day cleaning your data with no results to show!\n",
        "\n",
        "   Use matplotlib to make a scatterplot!\n",
        "   \n",
        "   ```py\n",
        "   plt.scatter(the_women_column, the_income_column)\n",
        "   ```\n",
        "   \n",
        "   Remember to call `plt.show()` to see the graph!"
      ]
    },
    {
      "cell_type": "code",
      "execution_count": null,
      "metadata": {
        "id": "c4qe92rMglOU"
      },
      "outputs": [],
      "source": []
    },
    {
      "cell_type": "markdown",
      "metadata": {
        "id": "ZAuL-jjmglOU"
      },
      "source": [
        "9. You want to double check your work. You know from experience that these monstrous csv files probably have `nan` values in them! Print out your column with the number of women per state to see.\n",
        "\n",
        "   We can fill in those `nan`s by using pandas' `.fillna()` function.\n",
        "   \n",
        "   You have the `TotalPop` per state, and you have the `Men` per state. As an estimate for the `nan` values in the `Women` column, you could use the `TotalPop` of that state minus the `Men` for that state.\n",
        "   \n",
        "   Print out the `Women` column after filling the `nan` values to see if it worked!"
      ]
    },
    {
      "cell_type": "code",
      "execution_count": null,
      "metadata": {
        "id": "aDKhbvSCglOU"
      },
      "outputs": [],
      "source": []
    },
    {
      "cell_type": "markdown",
      "metadata": {
        "id": "m7V5HbscglOU"
      },
      "source": [
        "10. We forgot to check for duplicates! Use `.duplicated()` on your `census` DataFrame to see if we have duplicate rows in there."
      ]
    },
    {
      "cell_type": "code",
      "execution_count": null,
      "metadata": {
        "id": "nKAs_tChglOU"
      },
      "outputs": [],
      "source": []
    },
    {
      "cell_type": "markdown",
      "metadata": {
        "id": "yvBB7CTDglOU"
      },
      "source": [
        "11. Drop those duplicates using the `.drop_duplicates()` function."
      ]
    },
    {
      "cell_type": "code",
      "execution_count": null,
      "metadata": {
        "id": "Zv98HsAgglOV"
      },
      "outputs": [],
      "source": []
    },
    {
      "cell_type": "markdown",
      "metadata": {
        "id": "RAoln0saglOV"
      },
      "source": [
        "12. Make the scatterplot again. Now, it should be perfect! Your job is secure, for now."
      ]
    },
    {
      "cell_type": "code",
      "execution_count": null,
      "metadata": {
        "id": "68VzbjbGglOV"
      },
      "outputs": [],
      "source": []
    },
    {
      "cell_type": "markdown",
      "metadata": {
        "id": "Abdvpzp_glOV"
      },
      "source": [
        "## Histogram of Races"
      ]
    },
    {
      "cell_type": "markdown",
      "metadata": {
        "id": "FgXm-zS-glOV"
      },
      "source": [
        "13. Now your boss wants you to make a bunch of histograms out of the race data that you have. Look at the `.columns` again to see what the race categories are."
      ]
    },
    {
      "cell_type": "code",
      "execution_count": null,
      "metadata": {
        "id": "FipqM7SlglOV"
      },
      "outputs": [],
      "source": []
    },
    {
      "cell_type": "markdown",
      "metadata": {
        "id": "tesIGKiAglOV"
      },
      "source": [
        "14. Try to make a histogram for each one!\n",
        "\n",
        "    You will have to get the columns into the numerical format, and those percentage signs will have to go.\n",
        "    \n",
        "    Don't forget to fill the `nan` values with something that makes sense! You probably dropped the duplicate rows when making your last graph, but it couldn't hurt to check for duplicates again."
      ]
    },
    {
      "cell_type": "code",
      "execution_count": null,
      "metadata": {
        "id": "ZRHbJ7ZiglOV"
      },
      "outputs": [],
      "source": []
    },
    {
      "cell_type": "markdown",
      "metadata": {
        "id": "75DvbrvcglOV"
      },
      "source": [
        "## Get Creative"
      ]
    },
    {
      "cell_type": "markdown",
      "metadata": {
        "id": "k4GIrxwYglOV"
      },
      "source": [
        "15. Phew. You've definitely impressed your boss on your first day of work.\n",
        "\n",
        "    But is there a way you really convey the power of pandas and Python over the drudgery of `csv` and Excel?\n",
        "    \n",
        "    Try to make some more interesting graphs to show your boss, and the world! You may need to clean the data even more to do it, or the cleaning you have already done may give you the ease of manipulation you've been searching for."
      ]
    },
    {
      "cell_type": "code",
      "execution_count": null,
      "metadata": {
        "id": "xidXCgkPglOV"
      },
      "outputs": [],
      "source": []
    }
  ],
  "metadata": {
    "kernelspec": {
      "display_name": "Python 3 (ipykernel)",
      "language": "python",
      "name": "python3"
    },
    "language_info": {
      "codemirror_mode": {
        "name": "ipython",
        "version": 3
      },
      "file_extension": ".py",
      "mimetype": "text/x-python",
      "name": "python",
      "nbconvert_exporter": "python",
      "pygments_lexer": "ipython3",
      "version": "3.7.11"
    },
    "colab": {
      "provenance": [],
      "include_colab_link": true
    }
  },
  "nbformat": 4,
  "nbformat_minor": 0
}